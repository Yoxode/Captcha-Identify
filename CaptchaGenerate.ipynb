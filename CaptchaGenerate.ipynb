{
 "cells": [
  {
   "cell_type": "code",
   "execution_count": 1,
   "metadata": {},
   "outputs": [],
   "source": [
    "from captcha.image import ImageCaptcha\n",
    "#import numpy as np\n",
    "#from PIL import Image\n",
    "import random\n",
    "import sys\n",
    "import os"
   ]
  },
  {
   "cell_type": "code",
   "execution_count": 3,
   "metadata": {},
   "outputs": [],
   "source": [
    "captcha_char_set = []\n",
    "\n",
    "# add numbers 0-9 to captcha_char_set\n",
    "for i in range(0, 10):\n",
    "    captcha_char_set.append(str(i))\n",
    "\n",
    "# # add lowercase letters 'a'-'z' to captcha_char_set\n",
    "# for i in range(ord('a'), ord('z') + 1):\n",
    "#     captcha_char_set.append(chr(i))\n",
    "\n",
    "# # add capital letters 'A'-'Z' to captcha_char_set\n",
    "# for i in range(ord('A'), ord('Z') + 1):\n",
    "#     captcha_char_set.append(chr(i))"
   ]
  },
  {
   "cell_type": "code",
   "execution_count": 4,
   "metadata": {},
   "outputs": [],
   "source": [
    "def get_captcha_text(captcha_char_set=captcha_char_set, captcha_text_size=4):\n",
    "    captcha_text_set = []\n",
    "    for i in range(captcha_text_size):\n",
    "        char = random.choice(captcha_char_set)\n",
    "        captcha_text_set.append(char)\n",
    "    return captcha_text_set"
   ]
  },
  {
   "cell_type": "code",
   "execution_count": 5,
   "metadata": {},
   "outputs": [],
   "source": [
    "def mk_dir(dir_name):\n",
    "    dir_path = './' + dir_name\n",
    "    if not os.path.exists(dir_path):\n",
    "        os.mkdir(dir_path)"
   ]
  },
  {
   "cell_type": "code",
   "execution_count": 6,
   "metadata": {},
   "outputs": [],
   "source": [
    "def get_captcha_img(captcha_img_dir='./captcha-images/', captcha_num=10000):\n",
    "    cur_num = 0\n",
    "    while cur_num < captcha_num:\n",
    "        captcha_text = get_captcha_text()\n",
    "        captcha_img = ImageCaptcha()\n",
    "        captcha_str = ''.join(captcha_text)\n",
    "        captcha_img_path = captcha_img_dir + captcha_str + '.jpg'\n",
    "        if not os.path.exists(captcha_img_path):\n",
    "            captcha_img.write(captcha_str, captcha_img_path)\n",
    "            sys.stdout.write('\\r{}/{} images created'.format(cur_num + 1, captcha_num))\n",
    "            sys.stdout.flush()\n",
    "            cur_num += 1"
   ]
  },
  {
   "cell_type": "code",
   "execution_count": 7,
   "metadata": {},
   "outputs": [
    {
     "name": "stdout",
     "output_type": "stream",
     "text": [
      "10000/10000 images created"
     ]
    }
   ],
   "source": [
    "if __name__ == \"__main__\":\n",
    "    mk_dir(\"captcha-images\")\n",
    "    get_captcha_img(captcha_num=10000)"
   ]
  },
  {
   "cell_type": "code",
   "execution_count": null,
   "metadata": {},
   "outputs": [],
   "source": []
  }
 ],
 "metadata": {
  "kernelspec": {
   "display_name": "Python 3",
   "language": "python",
   "name": "python3"
  },
  "language_info": {
   "codemirror_mode": {
    "name": "ipython",
    "version": 3
   },
   "file_extension": ".py",
   "mimetype": "text/x-python",
   "name": "python",
   "nbconvert_exporter": "python",
   "pygments_lexer": "ipython3",
   "version": "3.6.4"
  }
 },
 "nbformat": 4,
 "nbformat_minor": 2
}
