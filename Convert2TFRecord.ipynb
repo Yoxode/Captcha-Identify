{
 "cells": [
  {
   "cell_type": "code",
   "execution_count": 1,
   "metadata": {},
   "outputs": [],
   "source": [
    "import tensorflow as tf\n",
    "import os\n",
    "import random\n",
    "import sys\n",
    "import numpy as np\n",
    "from PIL import Image"
   ]
  },
  {
   "cell_type": "code",
   "execution_count": 2,
   "metadata": {},
   "outputs": [],
   "source": [
    "num_train = 8000\n",
    "captcha_img_dir = './captcha-images/'\n",
    "tfrecord_dir = './captcha-tfrecords/'"
   ]
  },
  {
   "cell_type": "code",
   "execution_count": 3,
   "metadata": {},
   "outputs": [],
   "source": [
    "def mkdir(tfrecord_dir=tfrecord_dir):\n",
    "    if not os.path.exists(tfrecord_dir):\n",
    "        os.mkdir(tfrecord_dir)"
   ]
  },
  {
   "cell_type": "code",
   "execution_count": 4,
   "metadata": {},
   "outputs": [],
   "source": [
    "def _int64_feature(value):\n",
    "    return tf.train.Feature(int64_list=tf.train.Int64List(value=[value]))\n",
    "\n",
    "def _bytes_feature(value):\n",
    "    return tf.train.Feature(bytes_list=tf.train.BytesList(value=[value]))"
   ]
  },
  {
   "cell_type": "code",
   "execution_count": 5,
   "metadata": {},
   "outputs": [],
   "source": [
    "def get_img_name(captcha_img_dir=captcha_img_dir):\n",
    "    img_name = []\n",
    "    for imgname in os.listdir(captcha_img_dir):\n",
    "        if imgname.endswith('jpg'):\n",
    "            img_path = os.path.join(captcha_img_dir, imgname)\n",
    "            img_name.append(img_path)\n",
    "    return img_name"
   ]
  },
  {
   "cell_type": "code",
   "execution_count": 6,
   "metadata": {},
   "outputs": [],
   "source": [
    "def image_to_tfexample(img_data, label0, label1, label2, label3):\n",
    "    return tf.train.Example(features=tf.train.Features(feature={\n",
    "        'image': _bytes_feature(img_data),\n",
    "        'label0': _int64_feature(label0),\n",
    "        'label1': _int64_feature(label1),\n",
    "        'label2': _int64_feature(label2),\n",
    "        'label3': _int64_feature(label3)\n",
    "    }))"
   ]
  },
  {
   "cell_type": "code",
   "execution_count": 8,
   "metadata": {},
   "outputs": [],
   "source": [
    "def convert_data(split_name, filenames, tfrecord_dir=tfrecord_dir):\n",
    "    assert split_name in ['train', 'test']\n",
    "\n",
    "    with tf.Session() as sess:\n",
    "        # tfrecord file path\n",
    "        output_filename = os.path.join(tfrecord_dir, split_name + '.tfrecords')\n",
    "        with tf.python_io.TFRecordWriter(output_filename) as tfrecord_writer:\n",
    "            for i, filename in enumerate(filenames):\n",
    "                try:\n",
    "                    sys.stdout.write('\\r>> Converting image {}/{}'.format(i + 1, len(filenames)))\n",
    "                    sys.stdout.flush()\n",
    "\n",
    "                    # read image\n",
    "                    image_data = Image.open(filename)\n",
    "\n",
    "                    # resize image to 224x224 (size of inputs in AlexNet)\n",
    "                    image_data = image_data.resize((224, 224))\n",
    "                    \n",
    "                    # gray scale\n",
    "                    image_data = np.array(image_data.convert('L'))\n",
    "\n",
    "                    # convert to bytes formayt\n",
    "                    image_data = image_data.tobytes()\n",
    "\n",
    "                    # get labels\n",
    "                    labels = filename.split('/')[-1][0:4]\n",
    "                    num_labels = []\n",
    "                    for j in range(4):\n",
    "                        if labels[j].isdigit():\n",
    "                            num_labels.append(int(labels[j]))\n",
    "                        elif labels[j].islower():\n",
    "                            num_labels.append(int(ord(labels[j]) - (ord('a') - 10)))\n",
    "                        elif labels[j].upper():\n",
    "                            num_labels.append(int(ord(labels[j]) - (ord('A') - 36)))\n",
    "\n",
    "                    example = image_to_tfexample(image_data, num_labels[0], num_labels[1], num_labels[2], num_labels[3])\n",
    "                    tfrecord_writer.write(example.SerializeToString())\n",
    "                    \n",
    "                except IOError as e:\n",
    "                    print('Could not read: {}'.format(filename))\n",
    "                    print('Error: {}'.format(e))\n",
    "                    print('Skip it!\\n')\n",
    "                    \n",
    "    sys.stdout.write('\\n')\n",
    "    sys.stdout.flush()"
   ]
  },
  {
   "cell_type": "code",
   "execution_count": 9,
   "metadata": {},
   "outputs": [
    {
     "name": "stdout",
     "output_type": "stream",
     "text": [
      ">> Converting image 8000/8000\n",
      ">> Converting image 2000/2000\n",
      "TFRecord file created！\n"
     ]
    }
   ],
   "source": [
    "if __name__ == \"__main__\":\n",
    "    mkdir()\n",
    "    photo_filenames =get_img_name(captcha_img_dir)\n",
    "    random.shuffle(photo_filenames)\n",
    "    training_filenames = photo_filenames[:num_train]\n",
    "    testint_filenames = photo_filenames[num_train:]\n",
    "    convert_data('train', training_filenames, tfrecord_dir)\n",
    "    convert_data('test', testint_filenames, tfrecord_dir)\n",
    "    print(\"TFRecord file created！\")"
   ]
  },
  {
   "cell_type": "code",
   "execution_count": null,
   "metadata": {},
   "outputs": [],
   "source": []
  }
 ],
 "metadata": {
  "kernelspec": {
   "display_name": "Python 3",
   "language": "python",
   "name": "python3"
  },
  "language_info": {
   "codemirror_mode": {
    "name": "ipython",
    "version": 3
   },
   "file_extension": ".py",
   "mimetype": "text/x-python",
   "name": "python",
   "nbconvert_exporter": "python",
   "pygments_lexer": "ipython3",
   "version": "3.6.4"
  }
 },
 "nbformat": 4,
 "nbformat_minor": 2
}
